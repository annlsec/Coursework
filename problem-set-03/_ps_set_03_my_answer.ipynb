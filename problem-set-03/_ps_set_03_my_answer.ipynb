{
 "cells": [
  {
   "cell_type": "markdown",
   "id": "40babd62",
   "metadata": {},
   "source": [
    "<h1><center> PPOL 5203 Data Science I: Foundations <br><br> \n",
    "<font color='grey'>Problem Set III<br><br>\n",
    "Tiago Ventura</center></center> <h1> \n"
   ]
  },
  {
   "cell_type": "markdown",
   "id": "a2878ca7",
   "metadata": {},
   "source": [
    "# Introduction to Problem Set 03\n",
    "\n",
    "This problem set will focus on data exploration and data wrangling using Pandas. \n",
    "\n",
    "## Dataset\n",
    "\n",
    "For this problem set, we will with a mix of electoral and survey data.  Primarely, you will work with data from the 2020 Cooperative Election Study (CCES).  \n",
    "\n",
    "## CCES\n",
    "\n",
    "The Cooperative Election Study, or CCES, seeks to study how Americans view and hold their representatives accountable during elections, how they voted and their electoral experiences, and how their behavior and experiences vary with political geography and social context. The CCES is a 50,000+ person national stratified sample survey administered by YouGov. \n",
    "\n",
    "The survey consists of two waves in election years. In the pre-election wave, respondents answer two-thirds of the questionnaire. This segment of the survey asks about general political attitudes, various demographic factors, assessment of roll call voting choices, political information, and vote intentions. The pre-election wave is in the field from xlate September to late October. In the post-election wave, respondents answer the other third of the questionnaire, mostly consisting of items related to the election that just occurred. The post-election wave is administered in November.\n",
    "\n",
    "## Data Documentation\n",
    "\n",
    "Information about the CCES project can be found in their website: https://cces.gov.harvard.edu/\n",
    "\n",
    "Documentation for the 2020 wave can be download in the following links: \n",
    "\n",
    "- Pre-Election Survey: https://dataverse.harvard.edu/file.xhtml?fileId=4462965&version=4.0\n",
    "\n",
    "- Post-Election Survey: https://dataverse.harvard.edu/file.xhtml?fileId=4462966&version=4.0\n",
    "\n",
    "- Full Guide: https://dataverse.harvard.edu/file.xhtml?fileId=5793681&version=4.0\n",
    "\n",
    "The full dataset and the three codebooks are available in the repository. This survey data is saved as `cces_2020.csv` inside of a compressed file. The documentation is inside of the documentation folder. "
   ]
  },
  {
   "cell_type": "markdown",
   "id": "fbbc8ecb",
   "metadata": {},
   "source": [
    "## 0. Load packages and imports\n"
   ]
  },
  {
   "cell_type": "code",
   "execution_count": 313,
   "id": "d368182d",
   "metadata": {},
   "outputs": [],
   "source": [
    "## basic functionality\n",
    "import pandas as pd\n",
    "import numpy as np\n",
    "import re\n",
    "import os\n",
    "import plotnine\n",
    "\n",
    "\n",
    "# see all columns\n",
    "pd.set_option('display.max_columns', None)\n"
   ]
  },
  {
   "cell_type": "markdown",
   "id": "886f11de",
   "metadata": {},
   "source": [
    "## 1. Understand the Dataset (10pts)\n",
    "\n",
    "Our first step as data scientist is to understand the structure of the data. Do the following: \n",
    "\n",
    "\n",
    "- Open the `cces_2022.csv` as a pandas data frame. Open the dataset using only the set of columns saved in the `col_to_open`\n",
    "- What is the unit of analysis of this data frame?\n",
    "- Are these units unique? Or are these units duplicated over the rows?\n",
    "- How is the panel data (pre and post-election surveys) encoded in the data frame?\n",
    "- How many variables exist in the data frame?\n"
   ]
  },
  {
   "cell_type": "code",
   "execution_count": 314,
   "id": "9fabac4c",
   "metadata": {},
   "outputs": [],
   "source": [
    "col_to_open = ['caseid', \n",
    "        \"gender\", \"gender_post\",\n",
    "        \"birthyr\", \"birthyr_post\",\n",
    "        'educ', \"race\", \"hispanic\",\n",
    "        \"pid3\",\n",
    "        \"votereg\", \"votereg_post\", \n",
    "        \"inputstate\", \"region\", \n",
    "        \"CC20_330a\", \"CC20_330b\", \"CC20_330c\",\n",
    "        \"CC20_331a\", \"CC20_331b\", \"CC20_331c\", \"CC20_331d\", \"CC20_331e\", \n",
    "         \"presvote16post\", \n",
    "         \"CC20_363\", \n",
    "         \"CC20_364b\"]"
   ]
  },
  {
   "cell_type": "code",
   "execution_count": null,
   "id": "0eae60d2",
   "metadata": {},
   "outputs": [],
   "source": [
    "# add your responses. Split them across multiple cells!"
   ]
  },
  {
   "cell_type": "markdown",
   "id": "a311be1f",
   "metadata": {},
   "source": [
    "## 2. Analyzing voter registration (20pts)\n",
    "\n",
    "In the survey, there are two self-reported measures for voter registration (`votereg` and `votereg_post`). If you want to understand better what voter registration means, read [here](https://electionlab.mit.edu/research/voter-registration)\n",
    "\n",
    "- Calculate the share of voters in the entire sample who were registered to vote in the first wave of the survey\n",
    "- Analyze the difference between voter registration across gender, race, and party identification. To do, you need to calculate the proportion of registered voters in each subgroup. \n",
    "- Create a new column indicating which voters reported having registered to vote only in the second wave of the survey. How many voters reported to have registered to vote only in the second wave?\n",
    "- Filter the dataset only with voters who report having registered to voter only in the second wave. Call this dataset `late_voters`. Look at the racial composition of late voters, and compare with the racial composition of the entire sample. What is the largest difference between the two groups?\n"
   ]
  },
  {
   "cell_type": "code",
   "execution_count": null,
   "id": "e491c79b",
   "metadata": {},
   "outputs": [],
   "source": [
    "# add your responses. Split them across multiple cells!"
   ]
  },
  {
   "cell_type": "markdown",
   "id": "4a19139d",
   "metadata": {},
   "source": [
    "#### Understanding you results\n",
    "\n",
    "- Write 1-2 setences analyzing the results about the demographic composition of registered voters in the United States and also the late registered voters. Use these results to understand the reasons behind effort in American Politics to make voter registration harded. Which demographics and political groups win when registration is harder for voters?\n"
   ]
  },
  {
   "cell_type": "code",
   "execution_count": null,
   "id": "fd4dba91",
   "metadata": {},
   "outputs": [],
   "source": [
    "## Add here your response. No code. Write in Markdown"
   ]
  },
  {
   "cell_type": "markdown",
   "id": "c9b9ecfe",
   "metadata": {},
   "source": [
    "## 3. Visualization of Voter Registration (10pts)\n",
    "\n",
    "Provide a visual representation (bars would be nice here) of the difference in proportion of voter registration across three socio-demographics group: gender, race, and party identification. \n",
    "\n",
    "- On y-axis, you need to provide the proportion of registered voters. \n",
    "- On the x-asis, the subgroups. \n",
    "- Use subplots to separate each of the three groups.\n",
    "- Remember the label properly your graph with caption and meaningful axis.\n",
    "- In addition to ploting the graph, save it as a figure in yout github repo. "
   ]
  },
  {
   "cell_type": "code",
   "execution_count": null,
   "id": "046ee352",
   "metadata": {},
   "outputs": [],
   "source": [
    "# add your responses. Split them across multiple cells!"
   ]
  },
  {
   "cell_type": "markdown",
   "id": "9ed2d678",
   "metadata": {},
   "source": [
    "## 4. Scaling Policy Preferences (20pts)\n",
    "\n",
    "When doing surveys, we usually work on ways to map multiple survey questions into a single dimension. This is a process called dimensionality reduction. We will use our data wrangling skills to perform this task, and you will learn more sophisticated way to do this type task in DS II and DS III\n",
    "\n",
    "The idea here is that you can ask multiple questions about the same issue, for example, gun control, and apply a statistical technique to aggregate these answer across a single number. This single number works as a summary of the person position on a this one-dimensional space. \n",
    "\n",
    "Let's go step by step. \n",
    "\n",
    "**Renaming Variables**\n",
    "\n",
    "- All variables starting with `CC20_330` represent a different grid question about gun control. Read the documentation of the survey to understand those. \n",
    "- Rename all these question in a way that `CC20_330` gets replaced by `gun_control`\n",
    "\n",
    "**Recoding Values**\n",
    "\n",
    "All these questions have the same format asking about survey respondents approval for certain gun control policy. However, the directionality of the questions are sometime flipped. For example, `CC22_330b` asks about support for banning assault rifles, and `CC20_330c` asks about making it easier for people\tto\tobtain\t concealed-carry permit. In this sense, a answer `support` for `CC22_330b` is very different from `support` to `CC22_330b`. Here is your task: \n",
    "\n",
    "- Recode the variables `CC20_330` in a way that all responses are mapped on the same direction. For example, a respondent who strongly support gun control will have always the same answer (could be 1 for all items), and a respondent who does not support any gun control policy will be on the opposity (could be 0 for all items. Make sure the items go on the same direction. \n",
    "- Write a user-defined function that performs the task above for all others `CC22_30` questions. There are many ways you can write this function. The simplest way is just to write a function that rotates the values of a variable given as an input. \n",
    "\n",
    "**Building an index**\n",
    "\n",
    "Using the recoded answers (maping all variables in the same direction), you will build a composite index of support for gun control: \n",
    "\n",
    "- create a new column (this a nice use of the apply method) summing row-wise all the values of the recoded `CC22_330` items\n",
    "- create a new column with the normalized value for the summing. The normalization here means creating a index that has mean equal zero and variance equal to one. Call this `gun_control_index`"
   ]
  },
  {
   "cell_type": "code",
   "execution_count": null,
   "id": "8939c8e6",
   "metadata": {},
   "outputs": [],
   "source": [
    "# add your responses. Split them across multiple cells!"
   ]
  },
  {
   "cell_type": "markdown",
   "id": "90e715c5",
   "metadata": {},
   "source": [
    "## 5 - Visualize the index (10pts)\n",
    "\n",
    "Plot the `gun_control_index` in two ways: \n",
    "\n",
    "- Provide a bar graph with the average value of the `gun_control_index` by state.\n",
    "    - To do so, you need to recode the state from numbers to their names. Check the codebook of the survey. The easiest way to complete this task is using `.map()` and a dictionary. \n",
    "- Provide a density distribution with the values of the `gun_control_index` for each participants \n",
    "- Provide a second density splitting the values for democrats and republicans. "
   ]
  },
  {
   "cell_type": "code",
   "execution_count": null,
   "id": "24a8418a",
   "metadata": {},
   "outputs": [],
   "source": [
    "# add your responses. Split them across multiple cells!"
   ]
  },
  {
   "cell_type": "markdown",
   "id": "ae242b82",
   "metadata": {},
   "source": [
    "#### Understanding you results\n",
    "\n",
    "\n",
    "- Write 1-2 setences explaining the differences of gun_control_index preferences over state and across voters affiliated with Democrats and Republicans"
   ]
  },
  {
   "cell_type": "code",
   "execution_count": null,
   "id": "931a8363",
   "metadata": {},
   "outputs": [],
   "source": [
    "## Add here your response. No code. Write in Markdown"
   ]
  },
  {
   "cell_type": "markdown",
   "id": "2e2a1acf",
   "metadata": {},
   "source": [
    "## Repeat and Plot. (10pts)\n",
    "\n",
    "Repeat all the steps from question four with the following tricks: \n",
    "\n",
    "**Part A:**\n",
    "\n",
    "- You should use the columns for immigration (CC20_331). \n"
   ]
  },
  {
   "cell_type": "code",
   "execution_count": null,
   "id": "943c62ed",
   "metadata": {},
   "outputs": [],
   "source": [
    "# add your responses. Split them across multiple cells!"
   ]
  },
  {
   "cell_type": "markdown",
   "id": "2821ea89",
   "metadata": {},
   "source": [
    "**Part B:**\n",
    "\n",
    "- Present a box plot with values for the immigration index in one axis, and Democrats and Republicans in the other axis \n",
    "- Write two lines explaining your results\n",
    "    "
   ]
  },
  {
   "cell_type": "code",
   "execution_count": null,
   "id": "01cc3b7c",
   "metadata": {},
   "outputs": [],
   "source": [
    "# add your responses. Split them across multiple cells!"
   ]
  },
  {
   "cell_type": "markdown",
   "id": "28fe2a8f",
   "metadata": {},
   "source": [
    "## Extra Points"
   ]
  },
  {
   "cell_type": "markdown",
   "id": "bb95b858",
   "metadata": {},
   "source": [
    "**Part C (extra 10 pts!!)**\n",
    "\n",
    "If you complete the Part A writing three functions to perform each steps from question 4, you will get extra 10pts. \n",
    "\n",
    "Your code should look something like this:\n",
    "\n",
    "\n",
    "```\n",
    "# assume a data set called d\n",
    "\n",
    "## rename\n",
    "d = rename_columns(d, [list_of_columns_to_be_renamed])\n",
    "\n",
    "\n",
    "# recode\n",
    "\n",
    "d = recode_columns(d, [list_columns_to_be_recoded])\n",
    "\n",
    "# build index\n",
    "\n",
    "d = build_index(d, [list_of_columns_to_aggregate_for_index])\n",
    "```"
   ]
  },
  {
   "cell_type": "markdown",
   "id": "b76ab6b1",
   "metadata": {},
   "source": [
    "## 8 - Merging Survey Data with Election Returns (20pts)\n",
    "\n",
    "Now, we will merge the survey data with the election results, and run some analysis with this augmented dataset. \n",
    "\n",
    "To do so, download the data with election results from the [Redistricting Data Hub](https://redistrictingdatahub.org/)\n",
    "\n",
    "- Link for the data: https://redistrictingdatahub.org/dataset/2020-presidential-democratic-republican-vote-share-on-nationwide-2020-census-blocks/\n",
    "\n",
    "The data is also available in the github repo\n",
    "\n",
    "**Processing Electoral Returns**\n",
    "\n",
    "- Open the dataset\n",
    "- What is the unit of analysis?\n",
    "- Aggregate the election results by state. Your output should columns with the state and the total number of votes received for each candidate in state\n",
    "- Create three new variables with the vote share for each presidential candidate. To calculate the vote share, you need to divide the sum of votes for each candidate by the total votes received by the three candidates in the state. \n",
    "- Which state did Joe Bidden receive his largest vote share? And Trump?\n",
    "\n",
    "**Voting Choices in the Survey Data**\n",
    "\n",
    "- Using the variable `CC20_364b`, calculate the predicted vote share for president for each state. This is a predicted value since you are using survey responses and not real observational data. \n",
    "\n",
    "**Comparison with electoral returns**\n",
    "\n",
    "- Merge the data with the predicted vote share by state with the data with electoral returns. To do so, you will need to clean the variable for state (one dataset uses the full name, while another uses numbers)\n",
    "\n",
    "- Compare the vote share for Donald Trump across the states. On average, how much off the results using only the self-reported survey responses are? To do so, take the average of the squared difference across the states. \n",
    "\n",
    "- In which states the results are more off the target? Write a few sentences to explain why your predictions from the survey were off. A few issues here you can explore are the fact you are not using the weights of the survey, sample size across the state, voters under-reporting support for Trump, only one survey, online vs in-person surveys. Use some of these options to explain what might be off here. "
   ]
  },
  {
   "cell_type": "code",
   "execution_count": null,
   "id": "674545c5",
   "metadata": {},
   "outputs": [],
   "source": [
    "# add your responses. Split them across multiple cells!"
   ]
  }
 ],
 "metadata": {
  "kernelspec": {
   "display_name": "Python 3 (ipykernel)",
   "language": "python",
   "name": "python3"
  },
  "language_info": {
   "codemirror_mode": {
    "name": "ipython",
    "version": 3
   },
   "file_extension": ".py",
   "mimetype": "text/x-python",
   "name": "python",
   "nbconvert_exporter": "python",
   "pygments_lexer": "ipython3",
   "version": "3.11.4"
  }
 },
 "nbformat": 4,
 "nbformat_minor": 5
}

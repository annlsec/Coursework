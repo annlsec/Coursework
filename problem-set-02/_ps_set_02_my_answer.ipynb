{
 "cells": [
  {
   "cell_type": "markdown",
   "id": "40babd62",
   "metadata": {},
   "source": [
    "<h1><center> PPOL 5203 Data Science I: Foundations <br><br> \n",
    "<font color='grey'>Problem Sets II<br><br>\n",
    "Tiago Ventura</center></center> <h1> \n"
   ]
  },
  {
   "cell_type": "markdown",
   "id": "a2878ca7",
   "metadata": {},
   "source": [
    "# Introduction to Problem Set 02\n",
    "\n",
    "This problem set will focus on: \n",
    "\n",
    "\n",
    "- Writing functions    \n",
    "- List comprehension\n",
    "- Generators\n",
    "- Numpy\n",
    "- Creating Pandas DataFrames\n"
   ]
  },
  {
   "cell_type": "markdown",
   "id": "10311398",
   "metadata": {},
   "source": [
    "# 1. Writing functions (20 pts)\n",
    "\n",
    "\n",
    "Using the following data, write a function called  mutate() that takes the nested list data and a new list as input and returns a new nested list combining the input list to the nested list. Notice, your single function must support concatenating the nested list with the input list by row or by column.  \n",
    "\n",
    "Important points:\n",
    "\n",
    "- You should use an argument called axis to indicate the row-wise or column-wise option.\n",
    "\n",
    "- Make sure the function can only deal with inputs of the same size for the column-wise operation \n",
    "\n",
    "- Make sure you include a docstring with your function"
   ]
  },
  {
   "cell_type": "code",
   "execution_count": 49,
   "id": "1b5a7bbd",
   "metadata": {},
   "outputs": [],
   "source": [
    "# input data\n",
    "data = [\n",
    "  [\"Var1\",\"Var2\",\"Var3\"],\n",
    "  [1,\"Apples\",True],\n",
    "  [4,\"Horses\",None],\n",
    "  [-1,\"Small Birds\",False],\n",
    "]"
   ]
  },
  {
   "cell_type": "code",
   "execution_count": 73,
   "id": "3ec73446",
   "metadata": {},
   "outputs": [],
   "source": [
    "## add your response here\n",
    "def mutate(data, new_list, axis):\n",
    "    \"\"\"\n",
    "    Concatenate a new list to a nested list.\n",
    "\n",
    "    Imputs:\n",
    "    data(list): The nested list.\n",
    "    new_list (list): The list to concatenate to the data.\n",
    "    axis (int): axis = 1 for row-wise operation, axis = 0 for column-wise operatioin.\n",
    "\n",
    "    Returns:\n",
    "    list: The nested list combine with the new list.\n",
    "\n",
    "    Raises:\n",
    "    ValueError: If the input lists size are not the same (column-wise operation).\n",
    "\n",
    "    Example:\n",
    "    data = [[1, 2], [1, 2]]\n",
    "    new_list = [1, 1]\n",
    "    mutated_data = mutate(data, new_list, axis=1)\n",
    "    print(mutated_data)\n",
    "    \"\"\"\n",
    "    \n",
    "    # for row-wise operation\n",
    "    if axis == 1:\n",
    "        # combine data with new list\n",
    "        return data + new_list\n",
    "    # for column-wise operation\n",
    "    elif axis == 0:\n",
    "        # check if two list are the same size\n",
    "        if len(new_list) != len(data):\n",
    "            # if not same size, return an error message\n",
    "            raise ValueError(\"Unable to do column-wise operation if lists are not the same size.\")\n",
    "        # if same size, combine data with new list\n",
    "        return [data[i] + new_list[i] for i in range(len(data))]\n",
    "    # if input does not indicate row-wise or column-wise operation, return a error message\n",
    "    else:\n",
    "        raise ValueError(\"Use axis = 1 for row-wise operation, axis = 0 for column-wise operatioin\")\n"
   ]
  },
  {
   "cell_type": "code",
   "execution_count": 74,
   "id": "18c30934",
   "metadata": {
    "scrolled": true
   },
   "outputs": [
    {
     "data": {
      "text/plain": [
       "[['Var1', 'Var2', 'Var3'],\n",
       " [1, 'Apples', True],\n",
       " [4, 'Horses', None],\n",
       " [-1, 'Small Birds', False],\n",
       " ['Var1', 'Var2', 'Var3'],\n",
       " [1, 'Apples', True],\n",
       " [4, 'Horses', None],\n",
       " [-1, 'Small Birds', False]]"
      ]
     },
     "execution_count": 74,
     "metadata": {},
     "output_type": "execute_result"
    }
   ],
   "source": [
    "mutate(data, data, axis = 1)"
   ]
  },
  {
   "cell_type": "markdown",
   "id": "def6e75c",
   "metadata": {},
   "source": [
    "# 2. Practice with numpy arrays (20pts)"
   ]
  },
  {
   "cell_type": "markdown",
   "id": "c2f354eb",
   "metadata": {},
   "source": [
    "## 2.1 Converting a list to an array\n",
    "\n",
    "We provide you with a list names roles_list_of_lists\n",
    "\n",
    "- A. Transform the roles_list_of_lists into a 2D numpy array; call it roles_array\n",
    "- B. Print the dimensions of `roles_array`"
   ]
  },
  {
   "cell_type": "code",
   "execution_count": 2,
   "id": "162ff7cb",
   "metadata": {},
   "outputs": [],
   "source": [
    "## setup\n",
    "import numpy as np\n",
    "\n",
    "## input\n",
    "roles_list_of_lists = [[\"Tiago\", \"Ventura\", \"Professor\"], \n",
    "                      [\"Sierra\", \"Sikorski\", \"Teaching Assistant\"]]"
   ]
  },
  {
   "cell_type": "code",
   "execution_count": 6,
   "id": "10830088",
   "metadata": {},
   "outputs": [
    {
     "data": {
      "text/plain": [
       "(2, 3)"
      ]
     },
     "execution_count": 6,
     "metadata": {},
     "output_type": "execute_result"
    }
   ],
   "source": [
    "## add your response here\n",
    "\n",
    "# transform to array\n",
    "roles_array = np.array(roles_list_of_lists)\n",
    "\n",
    "# print dimension\n",
    "roles_array.shape"
   ]
  },
  {
   "cell_type": "markdown",
   "id": "b6385ddf",
   "metadata": {},
   "source": [
    "## 2.2 Subsetting arrays using True/False (boolean) indicators\n",
    "\n",
    "- A. Create a boolean indicator for rows where the role (third column) == 'Teaching Assistant' and print that indicator\n",
    "- B. Use that boolean indicator to subset roles_array store the array as roles_TA \n",
    "- C. Print the `roles_TA` array and its dimensions (should be 1x3)"
   ]
  },
  {
   "cell_type": "code",
   "execution_count": 7,
   "id": "6e86d923",
   "metadata": {},
   "outputs": [
    {
     "name": "stdout",
     "output_type": "stream",
     "text": [
      "[['Sierra' 'Sikorski' 'Teaching Assistant']]\n",
      "(1, 3)\n"
     ]
    }
   ],
   "source": [
    "## add your response here\n",
    "\n",
    "# Create a boolean indicator\n",
    "role_indicator = roles_array[:, 2] == 'Teaching Assistant'\n",
    "\n",
    "# Use boolean indicator to subset roles_array\n",
    "roles_TA = roles_array[role_indicator]\n",
    "\n",
    "# Print the roles_TA array and its dimensions \n",
    "print(roles_TA)\n",
    "print(roles_TA.shape)"
   ]
  },
  {
   "cell_type": "markdown",
   "id": "6081c5c6",
   "metadata": {},
   "source": [
    "## 2.3 Adding to an array \n",
    "\n",
    "- A. Use np.append (google the documentation) to  add the following column with the netid of the TA to the roles_TA array as the last column \n",
    "- B. Store as role_TA_net\n",
    "- C. Print the dimensions of the array"
   ]
  },
  {
   "cell_type": "code",
   "execution_count": 3,
   "id": "18e1d2ea",
   "metadata": {},
   "outputs": [],
   "source": [
    "## column to add \n",
    "netids = np.array([['s1892']])"
   ]
  },
  {
   "cell_type": "code",
   "execution_count": 8,
   "id": "aa47a666",
   "metadata": {},
   "outputs": [],
   "source": [
    "## your code here\n",
    "\n",
    "# add the netid\n",
    "role_TA_net = np.append(roles_TA, netids, axis=1)"
   ]
  },
  {
   "cell_type": "code",
   "execution_count": 12,
   "id": "adeb5b15",
   "metadata": {},
   "outputs": [
    {
     "name": "stdout",
     "output_type": "stream",
     "text": [
      "(1, 4)\n"
     ]
    }
   ],
   "source": [
    "## your code here\n",
    "\n",
    "# print dimention\n",
    "print(role_TA_net.shape)"
   ]
  },
  {
   "cell_type": "markdown",
   "id": "e62422ed",
   "metadata": {},
   "source": [
    "### 2.4 Numpy Mathemathics. \n",
    "\n",
    "The 2-d array below gives you data with the number of goals scored by a country in six editions of the Fifa Soccer World Cup.\n",
    "\n",
    "Here is the data as a nested list"
   ]
  },
  {
   "cell_type": "code",
   "execution_count": 31,
   "id": "79d2a9f8",
   "metadata": {},
   "outputs": [],
   "source": [
    "import numpy as np\n",
    "# rows and columns\n",
    "rows = [\"Argentina\", \"Brazil\", \"Germany\", \"Spain\", \"France\", \"Japan\", \"Uruguay\"]\n",
    "cols = [\"1990\", \"1994\", \"1998\", \"2002\", \"2006\", \"2010\"]\n",
    "\n",
    "# matrix of goals\n",
    "goals= [[8,10, 2, 11, 10, 10], \n",
    "         [11, 14, 18, 10, 9, 15], \n",
    "         [9, 8, 14 , 14, 16, 29],\n",
    "         [10, 8, 10, 9, 8, 4],  \n",
    "         [0, 15, 0, 9, 1, 12],\n",
    "         [0, 1, 5, 2, 4, 2],\n",
    "         [0, 0, 4, 0, 11, 4]]       \n"
   ]
  },
  {
   "cell_type": "markdown",
   "id": "dab64270",
   "metadata": {},
   "source": [
    "Using only numpy functions (don't try to convert to a panda dataframe), give me the following: \n",
    "\n",
    "- A) How many goals each country scored summing across all the world cup editions?\n",
    "- B) How many goals were scored in each edition summing across all the countries?\n",
    "- C) How many goals Brazil scored in 1994?\n",
    "- D) Which countries scored more than 5 goals in 2010?\n",
    "- E) Which country scored more goals across all the WC editions?\n",
    "- F) Which world cup edition had more goals in total?"
   ]
  },
  {
   "cell_type": "code",
   "execution_count": 26,
   "id": "b1818c42",
   "metadata": {},
   "outputs": [],
   "source": [
    "## your code here\n"
   ]
  },
  {
   "cell_type": "code",
   "execution_count": 99,
   "id": "7129e7fc",
   "metadata": {},
   "outputs": [
    {
     "data": {
      "text/plain": [
       "array([51, 77, 90, 49, 37, 14, 19])"
      ]
     },
     "execution_count": 99,
     "metadata": {},
     "output_type": "execute_result"
    }
   ],
   "source": [
    "# A) How many goals each country scored summing across all the world cup editions?\n",
    "\n",
    "# Sum goals across all world cup editions for each country\n",
    "# axis = 1: row-wise operation\n",
    "total_goals_country = np.sum(goals, axis = 1)\n",
    "total_goals_country"
   ]
  },
  {
   "cell_type": "code",
   "execution_count": 52,
   "id": "500cda43",
   "metadata": {},
   "outputs": [
    {
     "data": {
      "text/plain": [
       "array([38, 56, 53, 55, 59, 76])"
      ]
     },
     "execution_count": 52,
     "metadata": {},
     "output_type": "execute_result"
    }
   ],
   "source": [
    "# B) How many goals were scored in each edition summing across all the countries?\n",
    "\n",
    "# Sum goals across all countries for each edition\n",
    "# axis = 0: column-wise operation\n",
    "total_goals_edition = np.sum(goals, axis=0)\n",
    "total_goals_edition\n"
   ]
  },
  {
   "cell_type": "code",
   "execution_count": 71,
   "id": "3f83267f",
   "metadata": {},
   "outputs": [
    {
     "data": {
      "text/plain": [
       "14"
      ]
     },
     "execution_count": 71,
     "metadata": {},
     "output_type": "execute_result"
    }
   ],
   "source": [
    "# C) How many goals Brazil scored in 1994?\n",
    "\n",
    "# first []: look for Brazil's index in rows\n",
    "# second []: look for 1994's index in cols\n",
    "goals[rows.index('Brazil')][cols.index('1994')]"
   ]
  },
  {
   "cell_type": "code",
   "execution_count": 91,
   "id": "767952d4",
   "metadata": {
    "scrolled": true
   },
   "outputs": [
    {
     "data": {
      "text/plain": [
       "array(['Argentina', 'Brazil', 'Germany', 'France'], dtype='<U9')"
      ]
     },
     "execution_count": 91,
     "metadata": {},
     "output_type": "execute_result"
    }
   ],
   "source": [
    "# D) Which countries scored more than 5 goals in 2010?\n",
    "\n",
    "# Countries that scored more than 5 goals in 2010\n",
    "\n",
    "# convert goals and rows into array\n",
    "goals = np.array(goals)\n",
    "rows = np.array(rows)\n",
    "\n",
    "# pull out 2010's goals\n",
    "goals_2010 = goals[:, 5]\n",
    "# filter goals larger than 5\n",
    "goals_2010 = goals_2010> 5\n",
    "\n",
    "# filter countries have goals larger than 5\n",
    "rows [goals_2010]"
   ]
  },
  {
   "cell_type": "code",
   "execution_count": 108,
   "id": "ae6f59ae",
   "metadata": {},
   "outputs": [
    {
     "data": {
      "text/plain": [
       "'Germany'"
      ]
     },
     "execution_count": 108,
     "metadata": {},
     "output_type": "execute_result"
    }
   ],
   "source": [
    "# E) Which country scored the most goals across all the WC editions?\n",
    "\n",
    "# country scored the most goals\n",
    "# argmax: return the index of the max number\n",
    "# look for the country has max goals\n",
    "rows[np.argmax(total_goals_country)]\n"
   ]
  },
  {
   "cell_type": "code",
   "execution_count": 109,
   "id": "fba2b5a8",
   "metadata": {},
   "outputs": [
    {
     "data": {
      "text/plain": [
       "'2010'"
      ]
     },
     "execution_count": 109,
     "metadata": {},
     "output_type": "execute_result"
    }
   ],
   "source": [
    "# F) Which World Cup edition had the most goals in total?\n",
    "\n",
    "# edition has the most goals\n",
    "# argmax: return the index of the max number\n",
    "# look for the year has max goals\n",
    "cols[np.argmax(total_goals_edition)]\n"
   ]
  },
  {
   "cell_type": "markdown",
   "id": "226ba672",
   "metadata": {},
   "source": [
    "# 3. Practice with iteration/list comprehension (10pts)\n",
    "\n",
    "Here, we provide you with a list containing the course codes for different McCourt/Georgetown"
   ]
  },
  {
   "cell_type": "code",
   "execution_count": 110,
   "id": "a9fbc97f",
   "metadata": {},
   "outputs": [],
   "source": [
    "## course code list \n",
    "course_codes = [\"PPOL 506\", \"PPOL 560\", \"PPOL 564\", \"SOCI 393\"]"
   ]
  },
  {
   "cell_type": "markdown",
   "id": "55cd1366",
   "metadata": {},
   "source": [
    "## 3.1 Using list comprehension to keep all elements / transform them \n",
    "\n",
    "- A. Create a new list---course_codes_ns-- that removes the spaces in each course code--- eg PPOL 506 should become PPOL506\n",
    "- B. Print `course_codes_ns`"
   ]
  },
  {
   "cell_type": "code",
   "execution_count": 119,
   "id": "a45bd6c1",
   "metadata": {},
   "outputs": [
    {
     "name": "stdout",
     "output_type": "stream",
     "text": [
      "['PPOL506', 'PPOL560', 'PPOL564', 'SOCI393']\n"
     ]
    }
   ],
   "source": [
    "## your code here\n",
    "\n",
    "# apply replace method for every item in course_codes\n",
    "course_codes_ns = [x.replace(\" \", \"\") for x in course_codes]\n",
    "\n",
    "# print\n",
    "print(course_codes_ns)"
   ]
  },
  {
   "cell_type": "markdown",
   "id": "e52a75ce",
   "metadata": {},
   "source": [
    "## 3.2 Using list comprehension to subset a list\n",
    "\n",
    "- A. using course_codes_ns, create a new list just with courses with ppol in the name; store it as `course_codes_ppol`"
   ]
  },
  {
   "cell_type": "code",
   "execution_count": 117,
   "id": "3e1585ed",
   "metadata": {},
   "outputs": [
    {
     "data": {
      "text/plain": [
       "['PPOL506', 'PPOL560', 'PPOL564']"
      ]
     },
     "execution_count": 117,
     "metadata": {},
     "output_type": "execute_result"
    }
   ],
   "source": [
    "## your code here\n",
    "\n",
    "# keep items in course_codes_ns if item include \"PPOL\"\n",
    "course_codes_ppol = [x for x in course_codes_ns if \"PPOL\" in x]\n",
    "course_codes_ppol"
   ]
  },
  {
   "cell_type": "markdown",
   "id": "72e35af8",
   "metadata": {},
   "source": [
    "## 3.3 Dictionary Comprehension \n",
    "\n",
    "- A. Create a second list with the grades you which to have in each of these courses\n",
    "- B. Use a dictionary Comprehension to create a dictionary with keys for the course number, and values for your grade"
   ]
  },
  {
   "cell_type": "code",
   "execution_count": 122,
   "id": "7d57b8c0",
   "metadata": {},
   "outputs": [
    {
     "data": {
      "text/plain": [
       "{'PPOL506': 'A', 'PPOL560': 'B', 'PPOL564': 'C'}"
      ]
     },
     "execution_count": 122,
     "metadata": {},
     "output_type": "execute_result"
    }
   ],
   "source": [
    "## your code here\n",
    "\n",
    "# create list of grades\n",
    "course_grade = ['A', 'B', 'C']\n",
    "\n",
    "# create dictionary with items(x) in course_codes_ppol and items(y) in course_grade\n",
    "# zip: aggregate items from lists\n",
    "course_grade_dict = {x: y for x, y in zip(course_codes_ppol, course_grade)}\n",
    "\n",
    "course_grade_dict"
   ]
  },
  {
   "cell_type": "markdown",
   "id": "f1f582f2",
   "metadata": {},
   "source": [
    "## 4 - Generators (20pts)\n",
    "\n",
    "In class, I argued that generators are extremely memory-efficient tool to build repeated tasks in Python. This happens because a generator is a special kind of function that leverages lazy evaluation, and do not store their contents in memory as you would expect a typical iterable to do. Instead, it only computes the element on demand. \n",
    "\n",
    "Being suspicious of non-evidence based claim as a data scientist needs to be, you decided to write code to verify this assumption. \n",
    "\n",
    "So prove to me with your code that iterating over `range(N)` is indeed more efficient in memory aspects than iterating over a `list(N)` object of the same size. \n",
    "\n",
    "<div class=\"alert alert-block alert-info\"> \n",
    "    \n",
    "**Tip:** you can use the function `sys.getsizeof()` from the module `sys` to calcule the size of a object in Python\n",
    "\n",
    "</div>"
   ]
  },
  {
   "cell_type": "code",
   "execution_count": 148,
   "id": "43df4b53",
   "metadata": {},
   "outputs": [
    {
     "name": "stdout",
     "output_type": "stream",
     "text": [
      "48\n",
      "856\n"
     ]
    }
   ],
   "source": [
    "## add your response here\n",
    "\n",
    "# import library\n",
    "import sys\n",
    "\n",
    "# Create a generator and a list of the same size\n",
    "rag = range(100)\n",
    "lst = list(range(100))\n",
    "\n",
    "# calculate and print memory\n",
    "print(sys.getsizeof(rag))\n",
    "print(sys.getsizeof(lst))"
   ]
  },
  {
   "cell_type": "markdown",
   "id": "06f45289",
   "metadata": {},
   "source": [
    "# 5 - Writing Functions and Numpy (20 pts)\n",
    "\n",
    "\n",
    "In this exercise, you need to write a functions that returns the `n` closest points to a list of two dimensional points. \n",
    "\n",
    "Your function should be named appropriately, and should have two inputs: \n",
    "\n",
    "- an two-dimensional array with points and \n",
    "- a parameter to give you the number of closest points needed to be printed. \n",
    "\n",
    "You should solve this exercise using only numpy functions\n",
    "\n",
    "To calculate the distance between two points, you can use the euclidean distance as expressed below:\n",
    "\n",
    "\n",
    "$$d = \\sqrt{(x_2 - x_1)^2 + (y_2 - y_1)^2}$$\n",
    "\n",
    "Finally, show that the functions works using the `data_points.csv` available in this same directory. "
   ]
  },
  {
   "cell_type": "code",
   "execution_count": 77,
   "id": "4af577f4",
   "metadata": {},
   "outputs": [],
   "source": [
    "## add your response here\n",
    "\n",
    "def closest_points(data, target, n):\n",
    "    \"\"\"\n",
    "    Find the top n closest points to the target point from a list of two dimensional points.\n",
    "    \n",
    "    Imputs:\n",
    "    data(list): A list of points.\n",
    "    taget (list): The list of a target point.\n",
    "    n (int): Indicating how many top closest points the function is looking for. \n",
    "\n",
    "    Returns:\n",
    "    list: A list of top n closest points.\n",
    "\n",
    "    Example:\n",
    "    data = [[1, 2], [1, 2]]\n",
    "    target = [1, 1]\n",
    "    point = closest_points(data, target, 5)\n",
    "    print(point)\n",
    "    \"\"\"\n",
    "    # Convert input data into arrays\n",
    "    points = np.array(data)\n",
    "    target_point = np.array(target)\n",
    "\n",
    "    # np.linalg.norm: calculate distance\n",
    "    # axis = 1: row-wise operation\n",
    "    distances = np.linalg.norm(points - target, axis=1)\n",
    "\n",
    "    # argsort: return index after sorting (ascending)\n",
    "    # [:n] slice the first n rows\n",
    "    index = np.argsort(distances)[:n]\n",
    "\n",
    "    # poll out n closest points\n",
    "    closest_points = points[index]\n",
    "\n",
    "    return closest_points"
   ]
  },
  {
   "cell_type": "code",
   "execution_count": 78,
   "id": "07adcc9b",
   "metadata": {
    "scrolled": true
   },
   "outputs": [
    {
     "data": {
      "text/plain": [
       "array([[ 1, 19],\n",
       "       [ 3, 22],\n",
       "       [ 1, 22],\n",
       "       [24,  5],\n",
       "       [24,  4]])"
      ]
     },
     "execution_count": 78,
     "metadata": {},
     "output_type": "execute_result"
    }
   ],
   "source": [
    "import pandas as pd\n",
    "df = pd.read_csv(\"data_points.csv\")\n",
    "\n",
    "# apply function\n",
    "closest_points(df, [4, 5], 5)"
   ]
  },
  {
   "cell_type": "markdown",
   "id": "e0955ab3",
   "metadata": {},
   "source": [
    "# 6 - Creating Pandas Dataframes (10 points)\n",
    "\n",
    "Now, similar to the problem above, assume you have a spreadsheet with the following information: \n",
    "\n",
    " Students | Grades_PPOL101 | Grades_PPOL202 |\n",
    "|----------|----------------|----------------|\n",
    "| Alice    | 85            | 82            |\n",
    "| Bob      | 90            | 87            |\n",
    "| Charlie  | 78            | 80            |\n",
    "| David    | 92            | 94            |\n",
    "| Eve      | 88            | 89            |\n",
    "\n",
    "Show me how to create this spreadsheet using: \n",
    "\n",
    "- A row-wise approach \n",
    "- A column-wise approach\n"
   ]
  },
  {
   "cell_type": "code",
   "execution_count": 45,
   "id": "cc06c28c",
   "metadata": {},
   "outputs": [],
   "source": [
    "## add your response here\n",
    "\n",
    "# install pandas\n",
    "import pandas as pd"
   ]
  },
  {
   "cell_type": "code",
   "execution_count": 47,
   "id": "fa6f701a",
   "metadata": {
    "scrolled": true
   },
   "outputs": [
    {
     "data": {
      "text/html": [
       "<div>\n",
       "<style scoped>\n",
       "    .dataframe tbody tr th:only-of-type {\n",
       "        vertical-align: middle;\n",
       "    }\n",
       "\n",
       "    .dataframe tbody tr th {\n",
       "        vertical-align: top;\n",
       "    }\n",
       "\n",
       "    .dataframe thead th {\n",
       "        text-align: right;\n",
       "    }\n",
       "</style>\n",
       "<table border=\"1\" class=\"dataframe\">\n",
       "  <thead>\n",
       "    <tr style=\"text-align: right;\">\n",
       "      <th></th>\n",
       "      <th>Students</th>\n",
       "      <th>Grades_PPOL101</th>\n",
       "      <th>Grades_PPOL202</th>\n",
       "    </tr>\n",
       "  </thead>\n",
       "  <tbody>\n",
       "    <tr>\n",
       "      <th>0</th>\n",
       "      <td>Alice</td>\n",
       "      <td>85</td>\n",
       "      <td>82</td>\n",
       "    </tr>\n",
       "    <tr>\n",
       "      <th>1</th>\n",
       "      <td>Bob</td>\n",
       "      <td>90</td>\n",
       "      <td>87</td>\n",
       "    </tr>\n",
       "    <tr>\n",
       "      <th>2</th>\n",
       "      <td>Charlie</td>\n",
       "      <td>78</td>\n",
       "      <td>80</td>\n",
       "    </tr>\n",
       "    <tr>\n",
       "      <th>3</th>\n",
       "      <td>David</td>\n",
       "      <td>92</td>\n",
       "      <td>94</td>\n",
       "    </tr>\n",
       "    <tr>\n",
       "      <th>4</th>\n",
       "      <td>Eve</td>\n",
       "      <td>88</td>\n",
       "      <td>89</td>\n",
       "    </tr>\n",
       "  </tbody>\n",
       "</table>\n",
       "</div>"
      ],
      "text/plain": [
       "  Students  Grades_PPOL101  Grades_PPOL202\n",
       "0    Alice              85              82\n",
       "1      Bob              90              87\n",
       "2  Charlie              78              80\n",
       "3    David              92              94\n",
       "4      Eve              88              89"
      ]
     },
     "execution_count": 47,
     "metadata": {},
     "output_type": "execute_result"
    }
   ],
   "source": [
    "# row-Wise approach\n",
    "\n",
    "# each element is a row\n",
    "data_r = [\n",
    "    ['Alice', 85, 82],\n",
    "    ['Bob', 90, 87],\n",
    "    ['Charlie', 78, 80],\n",
    "    ['David', 92, 94],\n",
    "    ['Eve', 88, 89]  \n",
    "]\n",
    "\n",
    "col = ['Students', 'Grades_PPOL101', 'Grades_PPOL202']\n",
    "\n",
    "data_r = pd.DataFrame(data_r, columns = col)\n",
    "\n",
    "data_r"
   ]
  },
  {
   "cell_type": "code",
   "execution_count": 48,
   "id": "256e75c1",
   "metadata": {},
   "outputs": [
    {
     "data": {
      "text/html": [
       "<div>\n",
       "<style scoped>\n",
       "    .dataframe tbody tr th:only-of-type {\n",
       "        vertical-align: middle;\n",
       "    }\n",
       "\n",
       "    .dataframe tbody tr th {\n",
       "        vertical-align: top;\n",
       "    }\n",
       "\n",
       "    .dataframe thead th {\n",
       "        text-align: right;\n",
       "    }\n",
       "</style>\n",
       "<table border=\"1\" class=\"dataframe\">\n",
       "  <thead>\n",
       "    <tr style=\"text-align: right;\">\n",
       "      <th></th>\n",
       "      <th>Students</th>\n",
       "      <th>Grades_PPOL101</th>\n",
       "      <th>Grades_PPOL202</th>\n",
       "    </tr>\n",
       "  </thead>\n",
       "  <tbody>\n",
       "    <tr>\n",
       "      <th>0</th>\n",
       "      <td>Alice</td>\n",
       "      <td>85</td>\n",
       "      <td>82</td>\n",
       "    </tr>\n",
       "    <tr>\n",
       "      <th>1</th>\n",
       "      <td>Bob</td>\n",
       "      <td>90</td>\n",
       "      <td>87</td>\n",
       "    </tr>\n",
       "    <tr>\n",
       "      <th>2</th>\n",
       "      <td>Charlie</td>\n",
       "      <td>78</td>\n",
       "      <td>80</td>\n",
       "    </tr>\n",
       "    <tr>\n",
       "      <th>3</th>\n",
       "      <td>David</td>\n",
       "      <td>92</td>\n",
       "      <td>94</td>\n",
       "    </tr>\n",
       "    <tr>\n",
       "      <th>4</th>\n",
       "      <td>Eve</td>\n",
       "      <td>88</td>\n",
       "      <td>89</td>\n",
       "    </tr>\n",
       "  </tbody>\n",
       "</table>\n",
       "</div>"
      ],
      "text/plain": [
       "  Students  Grades_PPOL101  Grades_PPOL202\n",
       "0    Alice              85              82\n",
       "1      Bob              90              87\n",
       "2  Charlie              78              80\n",
       "3    David              92              94\n",
       "4      Eve              88              89"
      ]
     },
     "execution_count": 48,
     "metadata": {},
     "output_type": "execute_result"
    }
   ],
   "source": [
    "# column-wise data \n",
    "# each key represents a column\n",
    "data_c = {\n",
    "    'Students': ['Alice', 'Bob', 'Charlie', 'David', 'Eve'],\n",
    "    'Grades_PPOL101': [85, 90, 78, 92, 88],\n",
    "    'Grades_PPOL202': [82, 87, 80, 94, 89]\n",
    "}\n",
    "\n",
    "# Create the DataFrame\n",
    "data_c = pd.DataFrame(data_c)\n",
    "data_c"
   ]
  }
 ],
 "metadata": {
  "kernelspec": {
   "display_name": "Python 3 (ipykernel)",
   "language": "python",
   "name": "python3"
  },
  "language_info": {
   "codemirror_mode": {
    "name": "ipython",
    "version": 3
   },
   "file_extension": ".py",
   "mimetype": "text/x-python",
   "name": "python",
   "nbconvert_exporter": "python",
   "pygments_lexer": "ipython3",
   "version": "3.9.13"
  }
 },
 "nbformat": 4,
 "nbformat_minor": 5
}
